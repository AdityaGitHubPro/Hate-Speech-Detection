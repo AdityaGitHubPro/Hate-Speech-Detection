{
  "nbformat": 4,
  "nbformat_minor": 0,
  "metadata": {
    "colab": {
      "provenance": [],
      "mount_file_id": "1pE9K_SivJnRnsNjII-GUq75vAkicsIpV",
      "authorship_tag": "ABX9TyNQ7ZEqRpi16+PziJdW5yUx",
      "include_colab_link": true
    },
    "kernelspec": {
      "name": "python3",
      "display_name": "Python 3"
    },
    "language_info": {
      "name": "python"
    }
  },
  "cells": [
    {
      "cell_type": "markdown",
      "metadata": {
        "id": "view-in-github",
        "colab_type": "text"
      },
      "source": [
        "<a href=\"https://colab.research.google.com/github/AdityaGitHubPro/Hate-Speech-Detection/blob/main/Hate_Speech_Detection.ipynb\" target=\"_parent\"><img src=\"https://colab.research.google.com/assets/colab-badge.svg\" alt=\"Open In Colab\"/></a>"
      ]
    },
    {
      "cell_type": "markdown",
      "source": [
        "# **Hate Speech Detection**"
      ],
      "metadata": {
        "id": "HPFRhG2jEjfC"
      }
    },
    {
      "cell_type": "markdown",
      "source": [
        "### **Importing the packages**"
      ],
      "metadata": {
        "id": "tWs0IgF5GLIP"
      }
    },
    {
      "cell_type": "code",
      "source": [
        "import pandas as pd\n",
        "import numpy as np\n",
        "from sklearn. feature_extraction. text import CountVectorizer\n",
        "from sklearn. model_selection import train_test_split\n",
        "from sklearn. tree import DecisionTreeClassifier"
      ],
      "metadata": {
        "id": "RRSRMKMcEqFp"
      },
      "execution_count": null,
      "outputs": []
    },
    {
      "cell_type": "markdown",
      "source": [
        "## **NLTK( The Natural Language Toolkit) library**\n",
        "**Used for symbolic and statistical natural language processing for English written in the Python programming language.**\n"
      ],
      "metadata": {
        "id": "jNAr_xrLGbON"
      }
    },
    {
      "cell_type": "code",
      "source": [
        "import nltk\n",
        "import re\n",
        "nltk. download('stopwords')\n",
        "from nltk. corpus import stopwords\n",
        "stopword=set(stopwords.words('english'))\n",
        "stemmer = nltk. SnowballStemmer(\"english\")"
      ],
      "metadata": {
        "colab": {
          "base_uri": "https://localhost:8080/"
        },
        "id": "4rZQ-u_CG6S5",
        "outputId": "371c2400-9f87-4601-e271-c68ca7e21bdd"
      },
      "execution_count": null,
      "outputs": [
        {
          "output_type": "stream",
          "name": "stderr",
          "text": [
            "[nltk_data] Downloading package stopwords to /root/nltk_data...\n",
            "[nltk_data]   Package stopwords is already up-to-date!\n"
          ]
        }
      ]
    },
    {
      "cell_type": "markdown",
      "source": [
        "## **Loading and Reading the data**"
      ],
      "metadata": {
        "id": "8ILwRT2IHsrI"
      }
    },
    {
      "cell_type": "code",
      "source": [
        "data = pd. read_csv(\"/content/drive/MyDrive/Data Set Of Machine Learning/Hate speech detection.csv\")"
      ],
      "metadata": {
        "id": "FmYiaSR8HfiF"
      },
      "execution_count": null,
      "outputs": []
    },
    {
      "cell_type": "markdown",
      "source": [
        "**To preview the data**"
      ],
      "metadata": {
        "id": "wHnnaFf4IsTf"
      }
    },
    {
      "cell_type": "code",
      "source": [
        "print(data.head())"
      ],
      "metadata": {
        "colab": {
          "base_uri": "https://localhost:8080/"
        },
        "id": "TMOKcus-Ip7D",
        "outputId": "d17fbaf7-bf4b-412d-f8f9-c2b59ee016af"
      },
      "execution_count": null,
      "outputs": [
        {
          "output_type": "stream",
          "name": "stdout",
          "text": [
            "   Unnamed: 0  count  hate_speech  offensive_language  neither  class  \\\n",
            "0           0      3            0                   0        3      2   \n",
            "1           1      3            0                   3        0      1   \n",
            "2           2      3            0                   3        0      1   \n",
            "3           3      3            0                   2        1      1   \n",
            "4           4      6            0                   6        0      1   \n",
            "\n",
            "                                               tweet  \n",
            "0  !!! RT @mayasolovely: As a woman you shouldn't...  \n",
            "1  !!!!! RT @mleew17: boy dats cold...tyga dwn ba...  \n",
            "2  !!!!!!! RT @UrKindOfBrand Dawg!!!! RT @80sbaby...  \n",
            "3  !!!!!!!!! RT @C_G_Anderson: @viva_based she lo...  \n",
            "4  !!!!!!!!!!!!! RT @ShenikaRoberts: The shit you...  \n"
          ]
        }
      ]
    },
    {
      "cell_type": "markdown",
      "source": [
        "**Preprocessing the data**"
      ],
      "metadata": {
        "id": "VxZumaruJOXe"
      }
    },
    {
      "cell_type": "code",
      "source": [
        "data[\"labels\"] = data[\"class\"].map({0: \"Hate Speech\", 1: \"Offensive Speech\", 2: \"No Hate and Offensive Speech\"})\n",
        "data = data[[\"tweet\", \"labels\"]]\n",
        "print(data. head())"
      ],
      "metadata": {
        "id": "yosW9uysKelI",
        "colab": {
          "base_uri": "https://localhost:8080/"
        },
        "outputId": "3b97d020-7d00-4c7c-e2c8-20e432409df0"
      },
      "execution_count": null,
      "outputs": [
        {
          "output_type": "stream",
          "name": "stdout",
          "text": [
            "                                               tweet  \\\n",
            "0  !!! RT @mayasolovely: As a woman you shouldn't...   \n",
            "1  !!!!! RT @mleew17: boy dats cold...tyga dwn ba...   \n",
            "2  !!!!!!! RT @UrKindOfBrand Dawg!!!! RT @80sbaby...   \n",
            "3  !!!!!!!!! RT @C_G_Anderson: @viva_based she lo...   \n",
            "4  !!!!!!!!!!!!! RT @ShenikaRoberts: The shit you...   \n",
            "\n",
            "                         labels  \n",
            "0  No Hate and Offensive Speech  \n",
            "1              Offensive Speech  \n",
            "2              Offensive Speech  \n",
            "3              Offensive Speech  \n",
            "4              Offensive Speech  \n"
          ]
        }
      ]
    },
    {
      "cell_type": "code",
      "source": [
        "def clean (text):\n",
        "  text = str (text). lower()\n",
        "  text = re. sub(\"[.?]\",'', text)\n",
        "  text = re. sub(\"https?://\\S+|www.\\S+\", '', text)\n",
        "  text = re. sub(\"<.?>+\", '', text)\n",
        "  text = re. sub(\"[%s]\" % re. escape(string. punctuation), '', text)\n",
        "  text = re. sub(\"\\n\",'', text)\n",
        "  text = re. sub(\"\\w\\d\\w\", '', text)\n",
        "  text = [word for word in text.split(' ') if word not in stopword]\n",
        "  text=' '. join(text)\n",
        "  text = [stemmer. stem(word) for word in text. split(' ')]\n",
        "  text=''. join(text)\n",
        "  return text\n",
        "  data[\"tweet\"] = data[\"tweet\"]. apply(clean)"
      ],
      "metadata": {
        "id": "zOEV-qznNTfl"
      },
      "execution_count": null,
      "outputs": []
    },
    {
      "cell_type": "markdown",
      "source": [
        "# **Splitting the data**\n",
        "**The next important step is to explore the dataset and divide the dataset into training and testing data.**"
      ],
      "metadata": {
        "id": "KosL5XezPSqm"
      }
    },
    {
      "cell_type": "code",
      "source": [
        "x = np. array(data[\"tweet\"])\n",
        "y = np. array(data[\"labels\"])\n",
        "cv = CountVectorizer()\n",
        "X = cv. fit_transform(x)"
      ],
      "metadata": {
        "id": "Iv80RDfVPMwB"
      },
      "execution_count": null,
      "outputs": []
    },
    {
      "cell_type": "markdown",
      "source": [
        "**Splitting the Data**"
      ],
      "metadata": {
        "id": "KMtfHEwOP5b4"
      }
    },
    {
      "cell_type": "code",
      "source": [
        "X_train, X_test, y_train, y_test = train_test_split(X, y, test_size=0.33, random_state=42)"
      ],
      "metadata": {
        "id": "Sdi2etbwPuGE"
      },
      "execution_count": null,
      "outputs": []
    },
    {
      "cell_type": "markdown",
      "source": [
        "# **Building the model**"
      ],
      "metadata": {
        "id": "Wg-sNi8pQEVY"
      }
    },
    {
      "cell_type": "markdown",
      "source": [
        "**Model Building**"
      ],
      "metadata": {
        "id": "gZGL6IUHQLhN"
      }
    },
    {
      "cell_type": "code",
      "source": [
        "model = DecisionTreeClassifier()"
      ],
      "metadata": {
        "id": "lrD0QkF7P12i"
      },
      "execution_count": null,
      "outputs": []
    },
    {
      "cell_type": "markdown",
      "source": [
        "**Training the model**"
      ],
      "metadata": {
        "id": "O7CWDTPIQU9g"
      }
    },
    {
      "cell_type": "code",
      "source": [
        "model. fit(X_train,y_train)"
      ],
      "metadata": {
        "colab": {
          "base_uri": "https://localhost:8080/"
        },
        "id": "gFsizVBlQs1n",
        "outputId": "3398fd1a-ffbd-4d2e-9ece-3542af9a4117"
      },
      "execution_count": null,
      "outputs": [
        {
          "output_type": "execute_result",
          "data": {
            "text/plain": [
              "DecisionTreeClassifier()"
            ]
          },
          "metadata": {},
          "execution_count": 19
        }
      ]
    },
    {
      "cell_type": "markdown",
      "source": [
        "# **Evaluating the results**"
      ],
      "metadata": {
        "id": "AAy4Z51rQ17f"
      }
    },
    {
      "cell_type": "markdown",
      "source": [
        "**Testing the model**"
      ],
      "metadata": {
        "id": "-ywg8oF8Q82K"
      }
    },
    {
      "cell_type": "code",
      "source": [
        "y_pred = model. predict (X_test)\n",
        "y_pred"
      ],
      "metadata": {
        "colab": {
          "base_uri": "https://localhost:8080/"
        },
        "id": "QEKgfby8Q4X4",
        "outputId": "820681d3-9cf4-4634-8e4e-478c48f6d66e"
      },
      "execution_count": null,
      "outputs": [
        {
          "output_type": "execute_result",
          "data": {
            "text/plain": [
              "array(['Offensive Speech', 'Offensive Speech', 'Offensive Speech', ...,\n",
              "       'No Hate and Offensive Speech', 'No Hate and Offensive Speech',\n",
              "       'Offensive Speech'], dtype=object)"
            ]
          },
          "metadata": {},
          "execution_count": 20
        }
      ]
    },
    {
      "cell_type": "markdown",
      "source": [
        "**Accuracy Score of our model**"
      ],
      "metadata": {
        "id": "lP7QCDc0RLIY"
      }
    },
    {
      "cell_type": "code",
      "source": [
        "from sklearn. metrics import accuracy_score\n",
        "print (accuracy_score (y_test,y_pred))"
      ],
      "metadata": {
        "colab": {
          "base_uri": "https://localhost:8080/"
        },
        "id": "Tkh66SAQRFd0",
        "outputId": "dad64b06-bbf0-42eb-fbad-eb771d77e318"
      },
      "execution_count": null,
      "outputs": [
        {
          "output_type": "stream",
          "name": "stdout",
          "text": [
            "0.8913070057464237\n"
          ]
        }
      ]
    },
    {
      "cell_type": "markdown",
      "source": [
        "**We can infer that our model for Hate speech detection performs with an accuracy of 88 percent.**"
      ],
      "metadata": {
        "id": "JaDwWt9uRXXo"
      }
    },
    {
      "cell_type": "code",
      "source": [
        "inp = \"You are too bad and I dont like your attitude\"\n",
        "inp = cv.transform([inp]).toarray()\n",
        "print(model.predict(inp))"
      ],
      "metadata": {
        "colab": {
          "base_uri": "https://localhost:8080/"
        },
        "id": "9SVs6XzMRfer",
        "outputId": "ccfc3f10-2c81-4674-cd65-857c6e8aec49"
      },
      "execution_count": null,
      "outputs": [
        {
          "output_type": "stream",
          "name": "stdout",
          "text": [
            "['No Hate and Offensive Speech']\n"
          ]
        }
      ]
    },
    {
      "cell_type": "code",
      "source": [
        "inp = \"It is really awesome\"\n",
        "inp = cv. transform([inp]). toarray()\n",
        "print(model. predict(inp))"
      ],
      "metadata": {
        "colab": {
          "base_uri": "https://localhost:8080/"
        },
        "id": "xLg-c5QkRqvz",
        "outputId": "ae7e57ae-c367-4ec6-d901-70b26d7456dc"
      },
      "execution_count": null,
      "outputs": [
        {
          "output_type": "stream",
          "name": "stdout",
          "text": [
            "['No Hate and Offensive Speech']\n"
          ]
        }
      ]
    }
  ]
}